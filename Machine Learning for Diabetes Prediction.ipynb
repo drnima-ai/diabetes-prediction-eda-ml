{
 "cells": [
  {
   "cell_type": "markdown",
   "id": "ec0e9306",
   "metadata": {},
   "source": [
    "# 🧠 Machine Learning for Diabetes Prediction\n",
    "This part of the notebook continues from the exploratory data analysis and preprocessing phase. We will use the cleaned dataset to build, train, and evaluate several machine learning models to predict the onset of diabetes.\n",
    "\n",
    "+ The steps we will follow are:\n",
    "\n",
    "    1. Load the preprocessed data.\n",
    "\n",
    "    2. Separate features (X) and the target variable (y).\n",
    "\n",
    "    3. Split the data into training and testing sets.\n",
    "\n",
    "    4. Apply feature scaling to normalize the data.\n",
    "\n",
    "    5. Train and evaluate three different classification models:\n",
    "\n",
    "        - Logistic Regression (a good baseline).\n",
    "\n",
    "        - K-Nearest Neighbors (a simple, non-parametric model).\n",
    "\n",
    "        - Random Forest (a powerful ensemble model).\n",
    "\n",
    "    6. Compare the models based on their performance metrics.\n",
    "\n",
    "    7. Conclude with the best-performing model and suggest future improvements."
   ]
  },
  {
   "cell_type": "markdown",
   "id": "498bf22d",
   "metadata": {},
   "source": [
    "## 📚 Importing Libraries for Machine Learning"
   ]
  },
  {
   "cell_type": "code",
   "execution_count": 11,
   "id": "e3d4ef63",
   "metadata": {},
   "outputs": [],
   "source": [
    "# Import libraries for data manipulation, visualization, and statistical analysis.\n",
    "import pandas as pd\n",
    "import numpy as np\n",
    "import matplotlib.pyplot as plt\n",
    "import seaborn as sns\n",
    "\n",
    "# Import libraries for machine learning models and evaluation\n",
    "from sklearn.model_selection import train_test_split\n",
    "from sklearn.preprocessing import StandardScaler\n",
    "from sklearn.linear_model import LogisticRegression\n",
    "from sklearn.neighbors import KNeighborsClassifier\n",
    "from sklearn.ensemble import RandomForestClassifier\n",
    "from sklearn.metrics import accuracy_score, confusion_matrix, classification_report"
   ]
  },
  {
   "cell_type": "markdown",
   "id": "6cee35a7",
   "metadata": {},
   "source": [
    "## 📂 Step 1: Load the Preprocessed Dataset"
   ]
  },
  {
   "cell_type": "code",
   "execution_count": 4,
   "id": "7b0846e6",
   "metadata": {},
   "outputs": [
    {
     "data": {
      "text/html": [
       "<div>\n",
       "<style scoped>\n",
       "    .dataframe tbody tr th:only-of-type {\n",
       "        vertical-align: middle;\n",
       "    }\n",
       "\n",
       "    .dataframe tbody tr th {\n",
       "        vertical-align: top;\n",
       "    }\n",
       "\n",
       "    .dataframe thead th {\n",
       "        text-align: right;\n",
       "    }\n",
       "</style>\n",
       "<table border=\"1\" class=\"dataframe\">\n",
       "  <thead>\n",
       "    <tr style=\"text-align: right;\">\n",
       "      <th></th>\n",
       "      <th>Glucose</th>\n",
       "      <th>BloodPressure</th>\n",
       "      <th>SkinThickness</th>\n",
       "      <th>Insulin</th>\n",
       "      <th>BMI</th>\n",
       "      <th>DiabetesPedigreeFunction</th>\n",
       "      <th>Age</th>\n",
       "      <th>Outcome</th>\n",
       "    </tr>\n",
       "  </thead>\n",
       "  <tbody>\n",
       "    <tr>\n",
       "      <th>0</th>\n",
       "      <td>148</td>\n",
       "      <td>72</td>\n",
       "      <td>35</td>\n",
       "      <td>125</td>\n",
       "      <td>33.6</td>\n",
       "      <td>0.6270</td>\n",
       "      <td>50</td>\n",
       "      <td>1</td>\n",
       "    </tr>\n",
       "    <tr>\n",
       "      <th>1</th>\n",
       "      <td>85</td>\n",
       "      <td>66</td>\n",
       "      <td>29</td>\n",
       "      <td>125</td>\n",
       "      <td>26.6</td>\n",
       "      <td>0.3510</td>\n",
       "      <td>31</td>\n",
       "      <td>0</td>\n",
       "    </tr>\n",
       "    <tr>\n",
       "      <th>2</th>\n",
       "      <td>183</td>\n",
       "      <td>64</td>\n",
       "      <td>29</td>\n",
       "      <td>125</td>\n",
       "      <td>23.3</td>\n",
       "      <td>0.6720</td>\n",
       "      <td>32</td>\n",
       "      <td>1</td>\n",
       "    </tr>\n",
       "    <tr>\n",
       "      <th>3</th>\n",
       "      <td>89</td>\n",
       "      <td>66</td>\n",
       "      <td>23</td>\n",
       "      <td>125</td>\n",
       "      <td>28.1</td>\n",
       "      <td>0.1670</td>\n",
       "      <td>21</td>\n",
       "      <td>0</td>\n",
       "    </tr>\n",
       "    <tr>\n",
       "      <th>4</th>\n",
       "      <td>137</td>\n",
       "      <td>40</td>\n",
       "      <td>35</td>\n",
       "      <td>125</td>\n",
       "      <td>43.1</td>\n",
       "      <td>0.3725</td>\n",
       "      <td>33</td>\n",
       "      <td>1</td>\n",
       "    </tr>\n",
       "  </tbody>\n",
       "</table>\n",
       "</div>"
      ],
      "text/plain": [
       "   Glucose  BloodPressure  SkinThickness  Insulin   BMI  \\\n",
       "0      148             72             35      125  33.6   \n",
       "1       85             66             29      125  26.6   \n",
       "2      183             64             29      125  23.3   \n",
       "3       89             66             23      125  28.1   \n",
       "4      137             40             35      125  43.1   \n",
       "\n",
       "   DiabetesPedigreeFunction  Age  Outcome  \n",
       "0                    0.6270   50        1  \n",
       "1                    0.3510   31        0  \n",
       "2                    0.6720   32        1  \n",
       "3                    0.1670   21        0  \n",
       "4                    0.3725   33        1  "
      ]
     },
     "execution_count": 4,
     "metadata": {},
     "output_type": "execute_result"
    }
   ],
   "source": [
    "# Load the cleaned and preprocessed dataset\n",
    "df_ml = pd.read_csv('Diabetes-dataset_FS.csv')\n",
    "\n",
    "# Display the first few rows to confirm it's loaded correctly\n",
    "df_ml.head()"
   ]
  },
  {
   "cell_type": "markdown",
   "id": "f72ffc38",
   "metadata": {},
   "source": [
    "## 🔪 Step 2: Separate Features (X) and Target (y)"
   ]
  },
  {
   "cell_type": "code",
   "execution_count": 5,
   "id": "7f2c3426",
   "metadata": {},
   "outputs": [
    {
     "name": "stdout",
     "output_type": "stream",
     "text": [
      "Shape of features (X): (768, 7)\n",
      "Shape of target (y): (768,)\n"
     ]
    }
   ],
   "source": [
    "# X contains all the feature columns (everything except 'Outcome')\n",
    "X = df_ml.drop('Outcome', axis=1)\n",
    "\n",
    "# y contains only the target variable\n",
    "y = df_ml['Outcome']\n",
    "\n",
    "# Print the shapes to confirm\n",
    "print(\"Shape of features (X):\", X.shape)\n",
    "print(\"Shape of target (y):\", y.shape)"
   ]
  },
  {
   "cell_type": "markdown",
   "id": "3f72f124",
   "metadata": {},
   "source": [
    "To prepare for modeling, we need to separate our data into the features (the diagnostic measurements) and the target variable (Outcome)."
   ]
  },
  {
   "cell_type": "markdown",
   "id": "5df9a0a1",
   "metadata": {},
   "source": [
    "## ⚡ Step 3: Split Data into Training and Testing Sets"
   ]
  },
  {
   "cell_type": "code",
   "execution_count": 6,
   "id": "02baf49e",
   "metadata": {},
   "outputs": [],
   "source": [
    "# Split the data into 80% for training and 20% for testing\n",
    "# random_state ensures reproducibility of the split\n",
    "# stratify=y ensures the proportion of outcomes is the same in both sets\n",
    "X_train, X_test, y_train, y_test = train_test_split(X, y, test_size=0.2, random_state=42, stratify=y)"
   ]
  },
  {
   "cell_type": "markdown",
   "id": "651cfd3e",
   "metadata": {},
   "source": [
    "It's crucial to evaluate our models on data they have never seen before. We'll split our dataset into a training set (to build the model) and a testing set (to evaluate its performance). We use stratify=y to ensure that both the training and testing sets have a similar proportion of diabetes cases, which is important for imbalanced datasets."
   ]
  },
  {
   "cell_type": "markdown",
   "id": "f1828ca9",
   "metadata": {},
   "source": [
    "## ⚖️ Step 4: Feature Scaling"
   ]
  },
  {
   "cell_type": "code",
   "execution_count": 7,
   "id": "518c5992",
   "metadata": {},
   "outputs": [],
   "source": [
    "# Initialize the StandardScaler\n",
    "scaler = StandardScaler()\n",
    "\n",
    "# Fit the scaler on the training data and transform it\n",
    "X_train_scaled = scaler.fit_transform(X_train)\n",
    "\n",
    "# Use the same scaler to transform the testing data\n",
    "X_test_scaled = scaler.transform(X_test)"
   ]
  },
  {
   "cell_type": "markdown",
   "id": "26466b6d",
   "metadata": {},
   "source": [
    "Our features have different scales (e.g., Age vs. DiabetesPedigreeFunction). Many machine learning algorithms perform better when the input features are on a similar scale. We'll use StandardScaler to standardize the features (mean=0, std=1)."
   ]
  },
  {
   "cell_type": "markdown",
   "id": "f4cfdab1",
   "metadata": {},
   "source": [
    "## 🤖 Step 5: Model Training and Evaluation"
   ]
  },
  {
   "cell_type": "markdown",
   "id": "5a31f171",
   "metadata": {},
   "source": [
    "Now we'll train three different models and evaluate their performance using key metrics like accuracy, the confusion matrix, and a classification report (which includes precision, recall, and F1-score)."
   ]
  },
  {
   "cell_type": "markdown",
   "id": "8bbd83c2",
   "metadata": {},
   "source": [
    "### Model 1: Logistic Regression"
   ]
  },
  {
   "cell_type": "markdown",
   "id": "33710b7b",
   "metadata": {},
   "source": [
    "This is a great linear model to use as a baseline. It's simple, fast, and highly interpretable."
   ]
  },
  {
   "cell_type": "code",
   "execution_count": 8,
   "id": "3feebe7f",
   "metadata": {},
   "outputs": [
    {
     "name": "stdout",
     "output_type": "stream",
     "text": [
      "Logistic Regression Results:\n",
      "Accuracy: 0.7207792207792207\n",
      "\n",
      "Confusion Matrix:\n",
      " [[82 18]\n",
      " [25 29]]\n",
      "\n",
      "Classification Report:\n",
      "               precision    recall  f1-score   support\n",
      "\n",
      "           0       0.77      0.82      0.79       100\n",
      "           1       0.62      0.54      0.57        54\n",
      "\n",
      "    accuracy                           0.72       154\n",
      "   macro avg       0.69      0.68      0.68       154\n",
      "weighted avg       0.71      0.72      0.72       154\n",
      "\n"
     ]
    }
   ],
   "source": [
    "# Initialize and train the Logistic Regression model\n",
    "log_reg = LogisticRegression(random_state=42)\n",
    "log_reg.fit(X_train_scaled, y_train)\n",
    "\n",
    "# Make predictions on the test set\n",
    "y_pred_log_reg = log_reg.predict(X_test_scaled)\n",
    "\n",
    "# Evaluate the model\n",
    "print(\"Logistic Regression Results:\")\n",
    "print(\"Accuracy:\", accuracy_score(y_test, y_pred_log_reg))\n",
    "print(\"\\nConfusion Matrix:\\n\", confusion_matrix(y_test, y_pred_log_reg))\n",
    "print(\"\\nClassification Report:\\n\", classification_report(y_test, y_pred_log_reg))"
   ]
  },
  {
   "cell_type": "markdown",
   "id": "61300c49",
   "metadata": {},
   "source": [
    "### Model 2: K-Nearest Neighbors (KNN)"
   ]
  },
  {
   "cell_type": "markdown",
   "id": "9d70e5a9",
   "metadata": {},
   "source": [
    "KNN is a non-parametric model that classifies a data point based on the majority class of its 'k' nearest neighbors. The choice of 'k' is important, but we'll start with a common value of 5."
   ]
  },
  {
   "cell_type": "code",
   "execution_count": 9,
   "id": "8f389fb0",
   "metadata": {},
   "outputs": [
    {
     "name": "stdout",
     "output_type": "stream",
     "text": [
      "K-Nearest Neighbors (KNN) Results:\n",
      "Accuracy: 0.7402597402597403\n",
      "\n",
      "Confusion Matrix:\n",
      " [[84 16]\n",
      " [24 30]]\n",
      "\n",
      "Classification Report:\n",
      "               precision    recall  f1-score   support\n",
      "\n",
      "           0       0.78      0.84      0.81       100\n",
      "           1       0.65      0.56      0.60        54\n",
      "\n",
      "    accuracy                           0.74       154\n",
      "   macro avg       0.71      0.70      0.70       154\n",
      "weighted avg       0.73      0.74      0.73       154\n",
      "\n"
     ]
    }
   ],
   "source": [
    "# Initialize and train the K-Nearest Neighbors model\n",
    "knn = KNeighborsClassifier(n_neighbors=5)\n",
    "knn.fit(X_train_scaled, y_train)\n",
    "\n",
    "# Make predictions on the test set\n",
    "y_pred_knn = knn.predict(X_test_scaled)\n",
    "\n",
    "# Evaluate the model\n",
    "print(\"K-Nearest Neighbors (KNN) Results:\")\n",
    "print(\"Accuracy:\", accuracy_score(y_test, y_pred_knn))\n",
    "print(\"\\nConfusion Matrix:\\n\", confusion_matrix(y_test, y_pred_knn))\n",
    "print(\"\\nClassification Report:\\n\", classification_report(y_test, y_pred_knn))"
   ]
  },
  {
   "cell_type": "markdown",
   "id": "b3946bfb",
   "metadata": {},
   "source": [
    "### Model 3: Random Forest Classifier"
   ]
  },
  {
   "cell_type": "markdown",
   "id": "f016e3c8",
   "metadata": {},
   "source": [
    "Random Forest is a powerful ensemble learning method that builds multiple decision trees and merges them to get a more accurate and stable prediction. It's often very effective with little tuning."
   ]
  },
  {
   "cell_type": "code",
   "execution_count": 10,
   "id": "9205b542",
   "metadata": {},
   "outputs": [
    {
     "name": "stdout",
     "output_type": "stream",
     "text": [
      "Random Forest Results:\n",
      "Accuracy: 0.7467532467532467\n",
      "\n",
      "Confusion Matrix:\n",
      " [[83 17]\n",
      " [22 32]]\n",
      "\n",
      "Classification Report:\n",
      "               precision    recall  f1-score   support\n",
      "\n",
      "           0       0.79      0.83      0.81       100\n",
      "           1       0.65      0.59      0.62        54\n",
      "\n",
      "    accuracy                           0.75       154\n",
      "   macro avg       0.72      0.71      0.72       154\n",
      "weighted avg       0.74      0.75      0.74       154\n",
      "\n"
     ]
    }
   ],
   "source": [
    "# Initialize and train the Random Forest model\n",
    "rf = RandomForestClassifier(n_estimators=100, random_state=42)\n",
    "rf.fit(X_train_scaled, y_train)\n",
    "\n",
    "# Make predictions on the test set\n",
    "y_pred_rf = rf.predict(X_test_scaled)\n",
    "\n",
    "# Evaluate the model\n",
    "print(\"Random Forest Results:\")\n",
    "print(\"Accuracy:\", accuracy_score(y_test, y_pred_rf))\n",
    "print(\"\\nConfusion Matrix:\\n\", confusion_matrix(y_test, y_pred_rf))\n",
    "print(\"\\nClassification Report:\\n\", classification_report(y_test, y_pred_rf))"
   ]
  },
  {
   "cell_type": "markdown",
   "id": "ea1bab3e",
   "metadata": {},
   "source": [
    "## 📊 Step 6: Model Comparison"
   ]
  },
  {
   "cell_type": "code",
   "execution_count": 12,
   "id": "36474e0e",
   "metadata": {},
   "outputs": [
    {
     "name": "stdout",
     "output_type": "stream",
     "text": [
      "                 Model  Accuracy\n",
      "2        Random Forest  0.746753\n",
      "1  K-Nearest Neighbors  0.740260\n",
      "0  Logistic Regression  0.720779\n"
     ]
    },
    {
     "name": "stderr",
     "output_type": "stream",
     "text": [
      "C:\\Users\\ASUS\\AppData\\Local\\Temp\\ipykernel_13852\\3654662784.py:17: FutureWarning: \n",
      "\n",
      "Passing `palette` without assigning `hue` is deprecated and will be removed in v0.14.0. Assign the `y` variable to `hue` and set `legend=False` for the same effect.\n",
      "\n",
      "  sns.barplot(x='Accuracy', y='Model', data=accuracy_df_sorted, palette='RdPu')\n"
     ]
    },
    {
     "data": {
      "image/png": "[encoded data removed]",
      "text/plain": [
       "<Figure size 800x500 with 1 Axes>"
      ]
     },
     "metadata": {},
     "output_type": "display_data"
    }
   ],
   "source": [
    "# Create a dictionary to store the accuracy scores\n",
    "model_accuracies = {\n",
    "    'Logistic Regression': accuracy_score(y_test, y_pred_log_reg),\n",
    "    'K-Nearest Neighbors': accuracy_score(y_test, y_pred_knn),\n",
    "    'Random Forest': accuracy_score(y_test, y_pred_rf)\n",
    "}\n",
    "\n",
    "# Convert to a pandas DataFrame for better visualization\n",
    "accuracy_df = pd.DataFrame(list(model_accuracies.items()), columns=['Model', 'Accuracy'])\n",
    "accuracy_df_sorted = accuracy_df.sort_values(by='Accuracy', ascending=False)\n",
    "\n",
    "# Display the sorted DataFrame\n",
    "print(accuracy_df_sorted)\n",
    "\n",
    "# Create a bar plot to visualize the accuracies\n",
    "plt.figure(figsize=(8, 5))\n",
    "sns.barplot(x='Accuracy', y='Model', data=accuracy_df_sorted, palette='RdPu')\n",
    "plt.title('Model Accuracy Comparison', fontsize=14)\n",
    "plt.xlabel('Accuracy', fontsize=12)\n",
    "plt.ylabel('Model', fontsize=12)\n",
    "plt.xlim(0.6, 0.8) # Adjust x-axis limits for better visualization\n",
    "plt.show()"
   ]
  },
  {
   "cell_type": "markdown",
   "id": "d6bb53f6",
   "metadata": {},
   "source": [
    "## 💡 Conclusion\n",
    "\n",
    "Based on our initial evaluation, the Logistic Regression model provided the highest accuracy on the test set, although the other models performed similarly. All models achieved an accuracy of over 70%, which is a solid start.\n",
    "\n",
    "The Random Forest model had a slightly better F1-score for predicting positive cases (Outcome=1), which might be more important in a medical context where correctly identifying patients with diabetes is crucial."
   ]
  },
  {
   "cell_type": "markdown",
   "id": "1bdd834c",
   "metadata": {},
   "source": [
    "## ✅ Future Improvements"
   ]
  },
  {
   "cell_type": "markdown",
   "id": "2ddd2fa9",
   "metadata": {},
   "source": [
    "+ Possible next steps to improve the models could include:\n",
    "\n",
    "    - Hyperparameter Tuning: Use techniques like GridSearchCV or RandomizedSearchCV to find the optimal parameters for each model (e.g., the best n_neighbors for KNN or n_estimators for Random Forest).\n",
    "\n",
    "    - Cross-Validation: Use k-fold cross-validation for a more robust evaluation of model performance, as it uses the entire dataset for both training and testing over multiple runs.\n",
    "\n",
    "    - Try More Advanced Models: Experiment with models like Gradient Boosting (e.g., XGBoost, LightGBM) or Support Vector Machines (SVM), which often yield state-of-the-art results.\n",
    "\n",
    "    - Advanced Feature Engineering: Explore creating new features from existing ones that might better capture the underlying patterns in the data."
   ]
  }
 ],
 "metadata": {
  "kernelspec": {
   "display_name": "Python 3",
   "language": "python",
   "name": "python3"
  },
  "language_info": {
   "codemirror_mode": {
    "name": "ipython",
    "version": 3
   },
   "file_extension": ".py",
   "mimetype": "text/x-python",
   "name": "python",
   "nbconvert_exporter": "python",
   "pygments_lexer": "ipython3",
   "version": "3.13.1"
  }
 },
 "nbformat": 4,
 "nbformat_minor": 5
}
